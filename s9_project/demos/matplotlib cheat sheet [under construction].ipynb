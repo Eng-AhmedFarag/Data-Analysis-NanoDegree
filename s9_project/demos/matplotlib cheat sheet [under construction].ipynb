{
 "cells": [
  {
   "cell_type": "markdown",
   "id": "7a9c6d44",
   "metadata": {},
   "source": [
    "Links to add to the cheatsheet \n",
    "\n",
    "https://levelup.gitconnected.com/matplotlib-ultimate-cheat-sheet-2021-2bcd1646f41e \n",
    "    \n",
    "https://github.com/rougier/matplotlib-cheatsheet\n",
    "    \n",
    "https://github.com/matplotlib/cheatsheets \n",
    "    \n",
    "https://blog.finxter.com/best-matplotlib-cheat-sheet/ "
   ]
  },
  {
   "cell_type": "markdown",
   "id": "84cc1194",
   "metadata": {},
   "source": [
    "## importing libraries"
   ]
  },
  {
   "cell_type": "code",
   "execution_count": 5,
   "id": "62432293",
   "metadata": {
    "ExecuteTime": {
     "end_time": "2021-08-02T12:13:11.179958Z",
     "start_time": "2021-08-02T12:13:11.164963Z"
    }
   },
   "outputs": [],
   "source": [
    "import pandas as pd\n",
    "import seaborn as sns \n",
    "import numpy as np\n",
    "import matplotlib.pyplot as plt \n",
    "%matplotlib inline"
   ]
  },
  {
   "cell_type": "markdown",
   "id": "83f40f40",
   "metadata": {},
   "source": [
    "# Philisophy"
   ]
  },
  {
   "cell_type": "markdown",
   "id": "4e61bb02",
   "metadata": {},
   "source": [
    "The Matplotlib library enables us to use either a functional or object-oriented method to create a plot. We will use both methods in creating a line plot."
   ]
  },
  {
   "cell_type": "markdown",
   "id": "9d218eb4",
   "metadata": {},
   "source": [
    "https://clarusway.com/a-new-version-of-matplotlib-cheat-sheet/ "
   ]
  },
  {
   "cell_type": "markdown",
   "id": "ad5bdaf4",
   "metadata": {},
   "source": [
    "use the above link for a distinction between the two philosophies for matplotlib\n",
    "\n",
    "code available as image :( "
   ]
  },
  {
   "cell_type": "markdown",
   "id": "b9c7fc13",
   "metadata": {},
   "source": [
    "## Appearance "
   ]
  },
  {
   "cell_type": "markdown",
   "id": "e4bf59fa",
   "metadata": {},
   "source": [
    "### Dummy data"
   ]
  },
  {
   "cell_type": "code",
   "execution_count": 8,
   "id": "4911ae5b",
   "metadata": {
    "ExecuteTime": {
     "end_time": "2021-08-02T12:15:12.586588Z",
     "start_time": "2021-08-02T12:15:11.810587Z"
    }
   },
   "outputs": [
    {
     "data": {
      "text/plain": [
       "Text(0, 0.5, 'Days Squared')"
      ]
     },
     "execution_count": 8,
     "metadata": {},
     "output_type": "execute_result"
    },
    {
     "data": {
      "image/png": "[encoded data removed]",
      "text/plain": [
       "<Figure size 432x288 with 1 Axes>"
      ]
     },
     "metadata": {
      "needs_background": "light"
     },
     "output_type": "display_data"
    }
   ],
   "source": [
    "# Create x & y NumPy arrays (10 Floats from 0 to 5)\n",
    "# Any NumPy array will do for x & y points as long as you have \n",
    "# an equal number \n",
    "x_1 = np.linspace(0,5,10)\n",
    "y_1 = x_1**2\n",
    "# Display plot with x & y\n",
    "plt.plot(x_1, y_1)\n",
    "# Add a title\n",
    "plt.title('Days Squared Chart')\n",
    "# Add an X & Y Label\n",
    "plt.xlabel('Days')\n",
    "plt.ylabel('Days Squared')\n",
    "# If not in Jupyter Notebook use\n",
    "# plt.show()"
   ]
  },
  {
   "cell_type": "code",
   "execution_count": 16,
   "id": "037f1230",
   "metadata": {
    "ExecuteTime": {
     "end_time": "2021-08-02T12:16:58.123104Z",
     "start_time": "2021-08-02T12:16:57.286062Z"
    }
   },
   "outputs": [
    {
     "data": {
      "image/png": "[encoded data removed]",
      "text/plain": [
       "<Figure size 432x288 with 1 Axes>"
      ]
     },
     "metadata": {
      "needs_background": "light"
     },
     "output_type": "display_data"
    }
   ],
   "source": [
    "# Default colors (b: blue, g: green, r: red, c: cyan, m: magenta, y: yellow, k: black, w: white)\n",
    "\n",
    "# color=\"0.75\" creates a 75% gray\n",
    "\n",
    "# You can use hexcodes color=\"#eeefff\"\n",
    "\n",
    "# You can use color names like color=\"burlywood\"\n",
    "# https://en.wikipedia.org/wiki/Web_colors\n",
    "\n",
    "# alpha defines the percentage of opacity\n",
    "\n",
    "# The default line width is 1, so to double it put in 2 and so forth\n",
    "\n",
    "# There are many line styles      matplotlib.org/3.1.0/gallery/lines_bars_and_markers/linestyles.html\n",
    "# You can also provide a sample like '-.'\n",
    "\n",
    "# Markers can mark your provided points on the graph     https://matplotlib.org/3.3.0/api/markers_api.html\n",
    "# You can change the markersize as well\n",
    "\n",
    "# markerfacecolor changes the marker fill color\n",
    "# markeredgecolor changes the marker stroke color\n",
    "# markeredgewidth changes the markers stroke size\n",
    "\n",
    "plt.plot(x_1,y_1,color='navy', alpha=.75, lw=2, ls='-.',\n",
    "           marker='o', markersize=7, markerfacecolor='y',\n",
    "           markeredgecolor='y', markeredgewidth=4)\n",
    "\n",
    "# Set the lower and upper bound of x & y axis\n",
    "plt.xlim([0,3])\n",
    "plt.ylim([0,8])\n",
    "\n",
    "# Add a grid, color, dashes(5pts 1 pt dashes separated by 2pt space)\n",
    "plt.grid(True, color='0.6', dashes=(5, 2, 1, 2))\n",
    "# Set grid background color.. I think this needs get current axis \n",
    "ax = plt.gca()\n",
    "ax.set_facecolor('#FAEBD7')"
   ]
  },
  {
   "cell_type": "markdown",
   "id": "c668a4ac",
   "metadata": {},
   "source": [
    "## Annotation"
   ]
  },
  {
   "cell_type": "code",
   "execution_count": null,
   "id": "6615502d",
   "metadata": {},
   "outputs": [],
   "source": [
    "# Read in ice cream sales data\n",
    "ics_df = pd.read_csv('icecreamsales.csv')\n",
    "ics_df = ics_df.sort_values(by='Temperature')\n",
    "\n",
    "# Convert from Pandas to NumPy array\n",
    "np_arr = ics_df.values\n",
    "\n",
    "# Get x & y values and put in array\n",
    "x_2 = np_arr[:,0]\n",
    "y_2 = np_arr[:,1]\n",
    "\n",
    "fig_4 = plt.figure(figsize=(6,4))\n",
    "axes_4 = fig_4.add_axes([0,0,1,1])\n",
    "axes_4.set_title('Ice Cream Sales vs. Temperature')\n",
    "axes_4.set_xlabel('Temperature')\n",
    "axes_4.set_ylabel('Ice Cream Sales')\n",
    "axes_4.plot(x_2,y_2)\n",
    "\n",
    "# Add Annotations by supplying the x & y to point at and the position of the text\n",
    "# based off of lower left had corner being 0,0\n",
    "axes_4.annotate('Good Month', xy=(83, 536), xytext=(60, 520),\n",
    "             arrowprops=dict(facecolor='black', shrink=0.05),)\n",
    "\n",
    "# Add bars to the plot\n",
    "plt.bar(x_2,y_2)"
   ]
  },
  {
   "cell_type": "markdown",
   "id": "215bcf86",
   "metadata": {},
   "source": [
    "## References"
   ]
  },
  {
   "cell_type": "markdown",
   "id": "f8178c8c",
   "metadata": {},
   "source": [
    "[derekbanas/matplotlib: This is the cheat sheet Jupyter Notebook I made for my Matplotlib Learn in One Video Tutorial. I basically condensed the Matplotlib API down into this one cheat sheet with tons of examples.](https://github.com/derekbanas/matplotlib) \n",
    "\n",
    "[A New Version Of Matplotlib Cheat Sheet - Clarusway](https://clarusway.com/a-new-version-of-matplotlib-cheat-sheet/)"
   ]
  }
 ],
 "metadata": {
  "kernelspec": {
   "display_name": "Python 3",
   "language": "python",
   "name": "python3"
  },
  "language_info": {
   "codemirror_mode": {
    "name": "ipython",
    "version": 3
   },
   "file_extension": ".py",
   "mimetype": "text/x-python",
   "name": "python",
   "nbconvert_exporter": "python",
   "pygments_lexer": "ipython3",
   "version": "3.8.5"
  },
  "toc": {
   "base_numbering": 1,
   "nav_menu": {},
   "number_sections": true,
   "sideBar": true,
   "skip_h1_title": false,
   "title_cell": "Table of Contents",
   "title_sidebar": "Contents",
   "toc_cell": false,
   "toc_position": {},
   "toc_section_display": true,
   "toc_window_display": false
  },
  "varInspector": {
   "cols": {
    "lenName": 16,
    "lenType": 16,
    "lenVar": 40
   },
   "kernels_config": {
    "python": {
     "delete_cmd_postfix": "",
     "delete_cmd_prefix": "del ",
     "library": "var_list.py",
     "varRefreshCmd": "print(var_dic_list())"
    },
    "r": {
     "delete_cmd_postfix": ") ",
     "delete_cmd_prefix": "rm(",
     "library": "var_list.r",
     "varRefreshCmd": "cat(var_dic_list()) "
    }
   },
   "types_to_exclude": [
    "module",
    "function",
    "builtin_function_or_method",
    "instance",
    "_Feature"
   ],
   "window_display": false
  }
 },
 "nbformat": 4,
 "nbformat_minor": 5
}
