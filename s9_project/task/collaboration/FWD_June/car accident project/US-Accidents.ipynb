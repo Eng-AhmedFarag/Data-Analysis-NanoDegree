{
 "cells": [
  {
   "cell_type": "code",
   "execution_count": 1,
   "metadata": {},
   "outputs": [],
   "source": [
    "import numpy as np\n",
    "import pandas as pd\n",
    "import matplotlib.pyplot as plt\n",
    "import seaborn as sb\n",
    "\n",
    "%matplotlib inline"
   ]
  },
  {
   "cell_type": "code",
   "execution_count": 2,
   "metadata": {},
   "outputs": [
    {
     "data": {
      "text/html": [
       "<div>\n",
       "<style scoped>\n",
       "    .dataframe tbody tr th:only-of-type {\n",
       "        vertical-align: middle;\n",
       "    }\n",
       "\n",
       "    .dataframe tbody tr th {\n",
       "        vertical-align: top;\n",
       "    }\n",
       "\n",
       "    .dataframe thead th {\n",
       "        text-align: right;\n",
       "    }\n",
       "</style>\n",
       "<table border=\"1\" class=\"dataframe\">\n",
       "  <thead>\n",
       "    <tr style=\"text-align: right;\">\n",
       "      <th></th>\n",
       "      <th>id</th>\n",
       "      <th>Severity</th>\n",
       "      <th>Start_Time</th>\n",
       "      <th>End_Time</th>\n",
       "      <th>Start_Lat</th>\n",
       "      <th>Start_Lng</th>\n",
       "      <th>End_Lat</th>\n",
       "      <th>End_Lng</th>\n",
       "      <th>Distance(mi)</th>\n",
       "      <th>Description</th>\n",
       "      <th>...</th>\n",
       "      <th>Roundabout</th>\n",
       "      <th>Station</th>\n",
       "      <th>Stop</th>\n",
       "      <th>Traffic_Calming</th>\n",
       "      <th>Traffic_Signal</th>\n",
       "      <th>Turning_Loop</th>\n",
       "      <th>Sunrise_Sunset</th>\n",
       "      <th>Civil_Twilight</th>\n",
       "      <th>Nautical_Twilight</th>\n",
       "      <th>Astronomical_Twilight</th>\n",
       "    </tr>\n",
       "  </thead>\n",
       "  <tbody>\n",
       "    <tr>\n",
       "      <th>0</th>\n",
       "      <td>A-2283743</td>\n",
       "      <td>2</td>\n",
       "      <td>2019-02-19T08:02:58Z</td>\n",
       "      <td>2019-02-19T08:32:22Z</td>\n",
       "      <td>33.729698</td>\n",
       "      <td>-84.392586</td>\n",
       "      <td>33.729698</td>\n",
       "      <td>-84.392586</td>\n",
       "      <td>0.00</td>\n",
       "      <td>Right hand shoulder blocked due to accident on...</td>\n",
       "      <td>...</td>\n",
       "      <td>False</td>\n",
       "      <td>False</td>\n",
       "      <td>False</td>\n",
       "      <td>False</td>\n",
       "      <td>False</td>\n",
       "      <td>False</td>\n",
       "      <td>Day</td>\n",
       "      <td>Day</td>\n",
       "      <td>Day</td>\n",
       "      <td>Day</td>\n",
       "    </tr>\n",
       "    <tr>\n",
       "      <th>1</th>\n",
       "      <td>A-1567861</td>\n",
       "      <td>2</td>\n",
       "      <td>2017-02-13T20:51:52Z</td>\n",
       "      <td>2017-02-13T21:21:39Z</td>\n",
       "      <td>43.194069</td>\n",
       "      <td>-83.727097</td>\n",
       "      <td>NaN</td>\n",
       "      <td>NaN</td>\n",
       "      <td>0.01</td>\n",
       "      <td>Accident on M-54 Saginaw Rd near Tuscola Rd.</td>\n",
       "      <td>...</td>\n",
       "      <td>False</td>\n",
       "      <td>False</td>\n",
       "      <td>False</td>\n",
       "      <td>False</td>\n",
       "      <td>False</td>\n",
       "      <td>False</td>\n",
       "      <td>Night</td>\n",
       "      <td>Night</td>\n",
       "      <td>Night</td>\n",
       "      <td>Night</td>\n",
       "    </tr>\n",
       "    <tr>\n",
       "      <th>2</th>\n",
       "      <td>A-423709</td>\n",
       "      <td>2</td>\n",
       "      <td>2020-05-22T18:20:00Z</td>\n",
       "      <td>2020-05-22T19:11:35Z</td>\n",
       "      <td>34.000071</td>\n",
       "      <td>-118.409001</td>\n",
       "      <td>34.000071</td>\n",
       "      <td>-118.409001</td>\n",
       "      <td>0.00</td>\n",
       "      <td>At Braddock Dr/Exit 51 - Accident.</td>\n",
       "      <td>...</td>\n",
       "      <td>False</td>\n",
       "      <td>False</td>\n",
       "      <td>False</td>\n",
       "      <td>False</td>\n",
       "      <td>True</td>\n",
       "      <td>False</td>\n",
       "      <td>Day</td>\n",
       "      <td>Day</td>\n",
       "      <td>Day</td>\n",
       "      <td>Day</td>\n",
       "    </tr>\n",
       "    <tr>\n",
       "      <th>3</th>\n",
       "      <td>A-864136</td>\n",
       "      <td>2</td>\n",
       "      <td>2020-03-03T07:47:18Z</td>\n",
       "      <td>2020-03-03T09:17:12Z</td>\n",
       "      <td>32.675549</td>\n",
       "      <td>-96.757278</td>\n",
       "      <td>32.675549</td>\n",
       "      <td>-96.757278</td>\n",
       "      <td>0.00</td>\n",
       "      <td>Accident on Simpson Stuart Rd at Flagstaff Dr.</td>\n",
       "      <td>...</td>\n",
       "      <td>False</td>\n",
       "      <td>False</td>\n",
       "      <td>False</td>\n",
       "      <td>False</td>\n",
       "      <td>False</td>\n",
       "      <td>False</td>\n",
       "      <td>Day</td>\n",
       "      <td>Day</td>\n",
       "      <td>Day</td>\n",
       "      <td>Day</td>\n",
       "    </tr>\n",
       "    <tr>\n",
       "      <th>4</th>\n",
       "      <td>A-2792470</td>\n",
       "      <td>2</td>\n",
       "      <td>2020-01-22T08:05:34Z</td>\n",
       "      <td>2020-01-22T12:05:34Z</td>\n",
       "      <td>42.879050</td>\n",
       "      <td>-121.831060</td>\n",
       "      <td>42.879050</td>\n",
       "      <td>-121.831060</td>\n",
       "      <td>0.00</td>\n",
       "      <td>At Silver Lake Rd/W Boundary Rd - Accident.</td>\n",
       "      <td>...</td>\n",
       "      <td>False</td>\n",
       "      <td>False</td>\n",
       "      <td>False</td>\n",
       "      <td>False</td>\n",
       "      <td>False</td>\n",
       "      <td>False</td>\n",
       "      <td>Day</td>\n",
       "      <td>Day</td>\n",
       "      <td>Day</td>\n",
       "      <td>Day</td>\n",
       "    </tr>\n",
       "  </tbody>\n",
       "</table>\n",
       "<p>5 rows × 47 columns</p>\n",
       "</div>"
      ],
      "text/plain": [
       "          id  Severity            Start_Time              End_Time  Start_Lat  \\\n",
       "0  A-2283743         2  2019-02-19T08:02:58Z  2019-02-19T08:32:22Z  33.729698   \n",
       "1  A-1567861         2  2017-02-13T20:51:52Z  2017-02-13T21:21:39Z  43.194069   \n",
       "2   A-423709         2  2020-05-22T18:20:00Z  2020-05-22T19:11:35Z  34.000071   \n",
       "3   A-864136         2  2020-03-03T07:47:18Z  2020-03-03T09:17:12Z  32.675549   \n",
       "4  A-2792470         2  2020-01-22T08:05:34Z  2020-01-22T12:05:34Z  42.879050   \n",
       "\n",
       "    Start_Lng    End_Lat     End_Lng  Distance(mi)  \\\n",
       "0  -84.392586  33.729698  -84.392586          0.00   \n",
       "1  -83.727097        NaN         NaN          0.01   \n",
       "2 -118.409001  34.000071 -118.409001          0.00   \n",
       "3  -96.757278  32.675549  -96.757278          0.00   \n",
       "4 -121.831060  42.879050 -121.831060          0.00   \n",
       "\n",
       "                                         Description  ...  Roundabout Station  \\\n",
       "0  Right hand shoulder blocked due to accident on...  ...       False   False   \n",
       "1       Accident on M-54 Saginaw Rd near Tuscola Rd.  ...       False   False   \n",
       "2                 At Braddock Dr/Exit 51 - Accident.  ...       False   False   \n",
       "3     Accident on Simpson Stuart Rd at Flagstaff Dr.  ...       False   False   \n",
       "4        At Silver Lake Rd/W Boundary Rd - Accident.  ...       False   False   \n",
       "\n",
       "    Stop Traffic_Calming Traffic_Signal Turning_Loop Sunrise_Sunset  \\\n",
       "0  False           False          False        False            Day   \n",
       "1  False           False          False        False          Night   \n",
       "2  False           False           True        False            Day   \n",
       "3  False           False          False        False            Day   \n",
       "4  False           False          False        False            Day   \n",
       "\n",
       "  Civil_Twilight Nautical_Twilight Astronomical_Twilight  \n",
       "0            Day               Day                   Day  \n",
       "1          Night             Night                 Night  \n",
       "2            Day               Day                   Day  \n",
       "3            Day               Day                   Day  \n",
       "4            Day               Day                   Day  \n",
       "\n",
       "[5 rows x 47 columns]"
      ]
     },
     "execution_count": 2,
     "metadata": {},
     "output_type": "execute_result"
    }
   ],
   "source": [
    "df = pd.read_csv('df.csv')\n",
    "df.head()"
   ]
  },
  {
   "cell_type": "code",
   "execution_count": 3,
   "metadata": {},
   "outputs": [
    {
     "data": {
      "text/plain": [
       "(5000, 47)"
      ]
     },
     "execution_count": 3,
     "metadata": {},
     "output_type": "execute_result"
    }
   ],
   "source": [
    "df.shape"
   ]
  },
  {
   "cell_type": "code",
   "execution_count": 4,
   "metadata": {},
   "outputs": [
    {
     "name": "stdout",
     "output_type": "stream",
     "text": [
      "<class 'pandas.core.frame.DataFrame'>\n",
      "RangeIndex: 5000 entries, 0 to 4999\n",
      "Data columns (total 47 columns):\n",
      " #   Column                 Non-Null Count  Dtype  \n",
      "---  ------                 --------------  -----  \n",
      " 0   id                     5000 non-null   object \n",
      " 1   Severity               5000 non-null   int64  \n",
      " 2   Start_Time             5000 non-null   object \n",
      " 3   End_Time               5000 non-null   object \n",
      " 4   Start_Lat              5000 non-null   float64\n",
      " 5   Start_Lng              5000 non-null   float64\n",
      " 6   End_Lat                4506 non-null   float64\n",
      " 7   End_Lng                4506 non-null   float64\n",
      " 8   Distance(mi)           5000 non-null   float64\n",
      " 9   Description            5000 non-null   object \n",
      " 10  Number                 1697 non-null   float64\n",
      " 11  Street                 5000 non-null   object \n",
      " 12  Side                   5000 non-null   object \n",
      " 13  City                   4999 non-null   object \n",
      " 14  County                 5000 non-null   object \n",
      " 15  State                  5000 non-null   object \n",
      " 16  Zipcode                4999 non-null   object \n",
      " 17  Country                5000 non-null   object \n",
      " 18  Timezone               4997 non-null   object \n",
      " 19  Airport_Code           4990 non-null   object \n",
      " 20  Weather_Timestamp      4919 non-null   object \n",
      " 21  Temperature(F)         4882 non-null   float64\n",
      " 22  Wind_Chill(F)          2947 non-null   float64\n",
      " 23  Humidity(%)            4869 non-null   float64\n",
      " 24  Pressure(in)           4903 non-null   float64\n",
      " 25  Visibility(mi)         4876 non-null   float64\n",
      " 26  Wind_Direction         4888 non-null   object \n",
      " 27  Wind_Speed(mph)        4455 non-null   float64\n",
      " 28  Precipitation(in)      2757 non-null   float64\n",
      " 29  Weather_Condition      4871 non-null   object \n",
      " 30  Amenity                5000 non-null   bool   \n",
      " 31  Bump                   5000 non-null   bool   \n",
      " 32  Crossing               5000 non-null   bool   \n",
      " 33  Give_Way               5000 non-null   bool   \n",
      " 34  Junction               5000 non-null   bool   \n",
      " 35  No_Exit                5000 non-null   bool   \n",
      " 36  Railway                5000 non-null   bool   \n",
      " 37  Roundabout             5000 non-null   bool   \n",
      " 38  Station                5000 non-null   bool   \n",
      " 39  Stop                   5000 non-null   bool   \n",
      " 40  Traffic_Calming        5000 non-null   bool   \n",
      " 41  Traffic_Signal         5000 non-null   bool   \n",
      " 42  Turning_Loop           5000 non-null   bool   \n",
      " 43  Sunrise_Sunset         4999 non-null   object \n",
      " 44  Civil_Twilight         4999 non-null   object \n",
      " 45  Nautical_Twilight      4999 non-null   object \n",
      " 46  Astronomical_Twilight  4999 non-null   object \n",
      "dtypes: bool(13), float64(13), int64(1), object(20)\n",
      "memory usage: 1.4+ MB\n"
     ]
    }
   ],
   "source": [
    "df.info()"
   ]
  },
  {
   "cell_type": "code",
   "execution_count": 5,
   "metadata": {},
   "outputs": [],
   "source": [
    "df.dropna(inplace=True)"
   ]
  },
  {
   "cell_type": "code",
   "execution_count": 6,
   "metadata": {},
   "outputs": [
    {
     "data": {
      "text/plain": [
       "(847, 47)"
      ]
     },
     "execution_count": 6,
     "metadata": {},
     "output_type": "execute_result"
    }
   ],
   "source": [
    "df.shape"
   ]
  },
  {
   "cell_type": "code",
   "execution_count": 7,
   "metadata": {},
   "outputs": [
    {
     "data": {
      "text/plain": [
       "Miami                 31\n",
       "Charlotte             21\n",
       "Houston               20\n",
       "Nashville             14\n",
       "Los Angeles           14\n",
       "                      ..\n",
       "Beaverton              1\n",
       "Hidden Valley Lake     1\n",
       "Belgrade               1\n",
       "North Branch           1\n",
       "Aurora                 1\n",
       "Name: City, Length: 489, dtype: int64"
      ]
     },
     "execution_count": 7,
     "metadata": {},
     "output_type": "execute_result"
    }
   ],
   "source": [
    "df['City'].value_counts()"
   ]
  },
  {
   "cell_type": "code",
   "execution_count": 8,
   "metadata": {},
   "outputs": [
    {
     "data": {
      "image/png": "[encoded data removed]",
      "text/plain": [
       "<Figure size 360x432 with 1 Axes>"
      ]
     },
     "metadata": {},
     "output_type": "display_data"
    }
   ],
   "source": [
    "sb.set_style('white')\n",
    "sb.set(font_scale=1.4)\n",
    "df['City'].value_counts()[0:5].plot(kind='bar', figsize=(5, 6), rot=60)\n",
    "plt.xlabel(\"City\", labelpad=8)\n",
    "plt.ylabel(\"Count\", labelpad=8)\n",
    "plt.title(\"Top five cities\", y=1.02);"
   ]
  },
  {
   "cell_type": "code",
   "execution_count": 9,
   "metadata": {},
   "outputs": [
    {
     "data": {
      "text/plain": [
       "2    746\n",
       "4     41\n",
       "3     39\n",
       "1     21\n",
       "Name: Severity, dtype: int64"
      ]
     },
     "execution_count": 9,
     "metadata": {},
     "output_type": "execute_result"
    }
   ],
   "source": [
    "df['Severity'].value_counts()"
   ]
  },
  {
   "cell_type": "code",
   "execution_count": 10,
   "metadata": {},
   "outputs": [
    {
     "data": {
      "text/plain": [
       "(<AxesSubplot:xlabel='Severity', ylabel='count'>,)"
      ]
     },
     "execution_count": 10,
     "metadata": {},
     "output_type": "execute_result"
    },
    {
     "data": {
      "image/png": "[encoded data removed]",
      "text/plain": [
       "<Figure size 432x288 with 1 Axes>"
      ]
     },
     "metadata": {},
     "output_type": "display_data"
    }
   ],
   "source": [
    "sb.countplot(x='Severity', data=df, color='b', lw=3),\n"
   ]
  },
  {
   "cell_type": "code",
   "execution_count": 11,
   "metadata": {},
   "outputs": [
    {
     "data": {
      "text/plain": [
       "Day      517\n",
       "Night    330\n",
       "Name: Sunrise_Sunset, dtype: int64"
      ]
     },
     "execution_count": 11,
     "metadata": {},
     "output_type": "execute_result"
    }
   ],
   "source": [
    "df['Sunrise_Sunset'].value_counts()\n"
   ]
  },
  {
   "cell_type": "code",
   "execution_count": 12,
   "metadata": {},
   "outputs": [],
   "source": [
    "df['Start_Time']=pd.to_datetime(df['Start_Time'])\n",
    "df['End_Time']=pd.to_datetime(df['End_Time'])"
   ]
  },
  {
   "cell_type": "code",
   "execution_count": 13,
   "metadata": {},
   "outputs": [],
   "source": [
    "df['hour']=df.Start_Time.dt.hour\n",
    "df['day']=df.Start_Time.dt.day\n",
    "df['weekday']=df.Start_Time.dt.day_name()"
   ]
  },
  {
   "cell_type": "code",
   "execution_count": 14,
   "metadata": {},
   "outputs": [
    {
     "data": {
      "text/html": [
       "<div>\n",
       "<style scoped>\n",
       "    .dataframe tbody tr th:only-of-type {\n",
       "        vertical-align: middle;\n",
       "    }\n",
       "\n",
       "    .dataframe tbody tr th {\n",
       "        vertical-align: top;\n",
       "    }\n",
       "\n",
       "    .dataframe thead th {\n",
       "        text-align: right;\n",
       "    }\n",
       "</style>\n",
       "<table border=\"1\" class=\"dataframe\">\n",
       "  <thead>\n",
       "    <tr style=\"text-align: right;\">\n",
       "      <th></th>\n",
       "      <th>id</th>\n",
       "      <th>Severity</th>\n",
       "      <th>Start_Time</th>\n",
       "      <th>End_Time</th>\n",
       "      <th>Start_Lat</th>\n",
       "      <th>Start_Lng</th>\n",
       "      <th>End_Lat</th>\n",
       "      <th>End_Lng</th>\n",
       "      <th>Distance(mi)</th>\n",
       "      <th>Description</th>\n",
       "      <th>...</th>\n",
       "      <th>Traffic_Calming</th>\n",
       "      <th>Traffic_Signal</th>\n",
       "      <th>Turning_Loop</th>\n",
       "      <th>Sunrise_Sunset</th>\n",
       "      <th>Civil_Twilight</th>\n",
       "      <th>Nautical_Twilight</th>\n",
       "      <th>Astronomical_Twilight</th>\n",
       "      <th>hour</th>\n",
       "      <th>day</th>\n",
       "      <th>weekday</th>\n",
       "    </tr>\n",
       "  </thead>\n",
       "  <tbody>\n",
       "    <tr>\n",
       "      <th>4</th>\n",
       "      <td>A-2792470</td>\n",
       "      <td>2</td>\n",
       "      <td>2020-01-22 08:05:34+00:00</td>\n",
       "      <td>2020-01-22 12:05:34+00:00</td>\n",
       "      <td>42.879050</td>\n",
       "      <td>-121.831060</td>\n",
       "      <td>42.879050</td>\n",
       "      <td>-121.831060</td>\n",
       "      <td>0.000</td>\n",
       "      <td>At Silver Lake Rd/W Boundary Rd - Accident.</td>\n",
       "      <td>...</td>\n",
       "      <td>False</td>\n",
       "      <td>False</td>\n",
       "      <td>False</td>\n",
       "      <td>Day</td>\n",
       "      <td>Day</td>\n",
       "      <td>Day</td>\n",
       "      <td>Day</td>\n",
       "      <td>8</td>\n",
       "      <td>22</td>\n",
       "      <td>Wednesday</td>\n",
       "    </tr>\n",
       "    <tr>\n",
       "      <th>20</th>\n",
       "      <td>A-1748546</td>\n",
       "      <td>2</td>\n",
       "      <td>2020-02-12 14:19:06+00:00</td>\n",
       "      <td>2020-02-12 15:03:58+00:00</td>\n",
       "      <td>40.649540</td>\n",
       "      <td>-73.899460</td>\n",
       "      <td>40.649540</td>\n",
       "      <td>-73.899460</td>\n",
       "      <td>0.000</td>\n",
       "      <td>Accident on Farragut Rd at 103rd St.</td>\n",
       "      <td>...</td>\n",
       "      <td>False</td>\n",
       "      <td>False</td>\n",
       "      <td>False</td>\n",
       "      <td>Day</td>\n",
       "      <td>Day</td>\n",
       "      <td>Day</td>\n",
       "      <td>Day</td>\n",
       "      <td>14</td>\n",
       "      <td>12</td>\n",
       "      <td>Wednesday</td>\n",
       "    </tr>\n",
       "    <tr>\n",
       "      <th>39</th>\n",
       "      <td>A-1775922</td>\n",
       "      <td>2</td>\n",
       "      <td>2020-09-11 00:34:18+00:00</td>\n",
       "      <td>2020-09-11 03:06:45+00:00</td>\n",
       "      <td>39.446164</td>\n",
       "      <td>-77.391525</td>\n",
       "      <td>39.446844</td>\n",
       "      <td>-77.389785</td>\n",
       "      <td>0.104</td>\n",
       "      <td>MD 26 EAST AT N MARKET ST</td>\n",
       "      <td>...</td>\n",
       "      <td>False</td>\n",
       "      <td>True</td>\n",
       "      <td>False</td>\n",
       "      <td>Night</td>\n",
       "      <td>Night</td>\n",
       "      <td>Night</td>\n",
       "      <td>Night</td>\n",
       "      <td>0</td>\n",
       "      <td>11</td>\n",
       "      <td>Friday</td>\n",
       "    </tr>\n",
       "    <tr>\n",
       "      <th>40</th>\n",
       "      <td>A-341254</td>\n",
       "      <td>2</td>\n",
       "      <td>2020-10-21 16:01:38+00:00</td>\n",
       "      <td>2020-10-21 17:16:51+00:00</td>\n",
       "      <td>44.768590</td>\n",
       "      <td>-93.958306</td>\n",
       "      <td>44.771278</td>\n",
       "      <td>-93.951868</td>\n",
       "      <td>0.366</td>\n",
       "      <td>Incident on US-212 EB near CR-31 Drive with ca...</td>\n",
       "      <td>...</td>\n",
       "      <td>False</td>\n",
       "      <td>False</td>\n",
       "      <td>False</td>\n",
       "      <td>Day</td>\n",
       "      <td>Day</td>\n",
       "      <td>Day</td>\n",
       "      <td>Day</td>\n",
       "      <td>16</td>\n",
       "      <td>21</td>\n",
       "      <td>Wednesday</td>\n",
       "    </tr>\n",
       "    <tr>\n",
       "      <th>41</th>\n",
       "      <td>A-1607126</td>\n",
       "      <td>2</td>\n",
       "      <td>2020-11-23 12:50:30+00:00</td>\n",
       "      <td>2020-11-24 03:17:19+00:00</td>\n",
       "      <td>25.897225</td>\n",
       "      <td>-80.244818</td>\n",
       "      <td>25.897997</td>\n",
       "      <td>-80.243550</td>\n",
       "      <td>0.095</td>\n",
       "      <td>Slow traffic on FL-916 - FL-9 from NW 136th St...</td>\n",
       "      <td>...</td>\n",
       "      <td>False</td>\n",
       "      <td>False</td>\n",
       "      <td>False</td>\n",
       "      <td>Day</td>\n",
       "      <td>Day</td>\n",
       "      <td>Day</td>\n",
       "      <td>Day</td>\n",
       "      <td>12</td>\n",
       "      <td>23</td>\n",
       "      <td>Monday</td>\n",
       "    </tr>\n",
       "  </tbody>\n",
       "</table>\n",
       "<p>5 rows × 50 columns</p>\n",
       "</div>"
      ],
      "text/plain": [
       "           id  Severity                Start_Time                  End_Time  \\\n",
       "4   A-2792470         2 2020-01-22 08:05:34+00:00 2020-01-22 12:05:34+00:00   \n",
       "20  A-1748546         2 2020-02-12 14:19:06+00:00 2020-02-12 15:03:58+00:00   \n",
       "39  A-1775922         2 2020-09-11 00:34:18+00:00 2020-09-11 03:06:45+00:00   \n",
       "40   A-341254         2 2020-10-21 16:01:38+00:00 2020-10-21 17:16:51+00:00   \n",
       "41  A-1607126         2 2020-11-23 12:50:30+00:00 2020-11-24 03:17:19+00:00   \n",
       "\n",
       "    Start_Lat   Start_Lng    End_Lat     End_Lng  Distance(mi)  \\\n",
       "4   42.879050 -121.831060  42.879050 -121.831060         0.000   \n",
       "20  40.649540  -73.899460  40.649540  -73.899460         0.000   \n",
       "39  39.446164  -77.391525  39.446844  -77.389785         0.104   \n",
       "40  44.768590  -93.958306  44.771278  -93.951868         0.366   \n",
       "41  25.897225  -80.244818  25.897997  -80.243550         0.095   \n",
       "\n",
       "                                          Description  ...  Traffic_Calming  \\\n",
       "4         At Silver Lake Rd/W Boundary Rd - Accident.  ...            False   \n",
       "20               Accident on Farragut Rd at 103rd St.  ...            False   \n",
       "39                          MD 26 EAST AT N MARKET ST  ...            False   \n",
       "40  Incident on US-212 EB near CR-31 Drive with ca...  ...            False   \n",
       "41  Slow traffic on FL-916 - FL-9 from NW 136th St...  ...            False   \n",
       "\n",
       "   Traffic_Signal Turning_Loop Sunrise_Sunset Civil_Twilight  \\\n",
       "4           False        False            Day            Day   \n",
       "20          False        False            Day            Day   \n",
       "39           True        False          Night          Night   \n",
       "40          False        False            Day            Day   \n",
       "41          False        False            Day            Day   \n",
       "\n",
       "   Nautical_Twilight Astronomical_Twilight hour day    weekday  \n",
       "4                Day                   Day    8  22  Wednesday  \n",
       "20               Day                   Day   14  12  Wednesday  \n",
       "39             Night                 Night    0  11     Friday  \n",
       "40               Day                   Day   16  21  Wednesday  \n",
       "41               Day                   Day   12  23     Monday  \n",
       "\n",
       "[5 rows x 50 columns]"
      ]
     },
     "execution_count": 14,
     "metadata": {},
     "output_type": "execute_result"
    }
   ],
   "source": [
    "df.head()"
   ]
  },
  {
   "cell_type": "code",
   "execution_count": 15,
   "metadata": {},
   "outputs": [
    {
     "data": {
      "text/plain": [
       "Monday       156\n",
       "Thursday     145\n",
       "Tuesday      144\n",
       "Wednesday    137\n",
       "Friday       125\n",
       "Saturday      72\n",
       "Sunday        68\n",
       "Name: weekday, dtype: int64"
      ]
     },
     "execution_count": 15,
     "metadata": {},
     "output_type": "execute_result"
    }
   ],
   "source": [
    "df['weekday'].value_counts()\n"
   ]
  },
  {
   "cell_type": "code",
   "execution_count": 16,
   "metadata": {},
   "outputs": [
    {
     "data": {
      "image/png": "[encoded data removed]",
      "text/plain": [
       "<Figure size 432x288 with 1 Axes>"
      ]
     },
     "metadata": {},
     "output_type": "display_data"
    }
   ],
   "source": [
    "sb.set(style='darkgrid', font_scale=1.3)\n",
    "sb.countplot(y='weekday', data=df, color='b', lw=3  );\n",
    "plt.xlabel('weekday')\n",
    "plt.ylabel('Count')\n",
    "plt.title(\"Accidents per day of week\");\n",
    "plt.tight_layout()"
   ]
  },
  {
   "cell_type": "code",
   "execution_count": 17,
   "metadata": {},
   "outputs": [
    {
     "data": {
      "text/plain": [
       "<matplotlib.legend.Legend at 0x1c5b26d63a0>"
      ]
     },
     "execution_count": 17,
     "metadata": {},
     "output_type": "execute_result"
    },
    {
     "data": {
      "image/png": "[encoded data removed]",
      "text/plain": [
       "<Figure size 432x288 with 1 Axes>"
      ]
     },
     "metadata": {},
     "output_type": "display_data"
    }
   ],
   "source": [
    "sb.countplot(data=df,y='weekday',hue='Sunrise_Sunset');\n",
    "sb.despine()\n",
    "ax = plt.gca()\n",
    "ax.tick_params(axis='both', colors='gray', labelsize=14, length=0)\n",
    "plt.title(\"Day of week VS sunrise sunset\\n\",\n",
    "          fontsize=18, loc='left'\n",
    "         );\n",
    "plt.legend(['day','night'], frameon=False)\n"
   ]
  },
  {
   "cell_type": "markdown",
   "metadata": {},
   "source": [
    "The number of accidents on working days is more than the weekend\n",
    "More accidents during the day than at night"
   ]
  },
  {
   "cell_type": "code",
   "execution_count": null,
   "metadata": {},
   "outputs": [],
   "source": []
  }
 ],
 "metadata": {
  "kernelspec": {
   "display_name": "Python 3",
   "language": "python",
   "name": "python3"
  },
  "language_info": {
   "codemirror_mode": {
    "name": "ipython",
    "version": 3
   },
   "file_extension": ".py",
   "mimetype": "text/x-python",
   "name": "python",
   "nbconvert_exporter": "python",
   "pygments_lexer": "ipython3",
   "version": "3.8.5"
  }
 },
 "nbformat": 4,
 "nbformat_minor": 4
}
