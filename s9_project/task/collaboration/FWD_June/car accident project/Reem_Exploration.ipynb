{
 "cells": [
  {
   "cell_type": "code",
   "execution_count": 2,
   "id": "b9b72f04",
   "metadata": {},
   "outputs": [],
   "source": [
    "import pandas as pd\n",
    "import numpy as np\n",
    "import matplotlib.pyplot as plt\n",
    "%matplotlib inline\n",
    "import seaborn as sb"
   ]
  },
  {
   "cell_type": "code",
   "execution_count": 3,
   "id": "7fd03e24",
   "metadata": {},
   "outputs": [
    {
     "data": {
      "text/html": [
       "<div>\n",
       "<style scoped>\n",
       "    .dataframe tbody tr th:only-of-type {\n",
       "        vertical-align: middle;\n",
       "    }\n",
       "\n",
       "    .dataframe tbody tr th {\n",
       "        vertical-align: top;\n",
       "    }\n",
       "\n",
       "    .dataframe thead th {\n",
       "        text-align: right;\n",
       "    }\n",
       "</style>\n",
       "<table border=\"1\" class=\"dataframe\">\n",
       "  <thead>\n",
       "    <tr style=\"text-align: right;\">\n",
       "      <th></th>\n",
       "      <th>id</th>\n",
       "      <th>Severity</th>\n",
       "      <th>Start_Time</th>\n",
       "      <th>End_Time</th>\n",
       "      <th>Start_Lat</th>\n",
       "      <th>Start_Lng</th>\n",
       "      <th>End_Lat</th>\n",
       "      <th>End_Lng</th>\n",
       "      <th>Distance(mi)</th>\n",
       "      <th>Description</th>\n",
       "      <th>...</th>\n",
       "      <th>Roundabout</th>\n",
       "      <th>Station</th>\n",
       "      <th>Stop</th>\n",
       "      <th>Traffic_Calming</th>\n",
       "      <th>Traffic_Signal</th>\n",
       "      <th>Turning_Loop</th>\n",
       "      <th>Sunrise_Sunset</th>\n",
       "      <th>Civil_Twilight</th>\n",
       "      <th>Nautical_Twilight</th>\n",
       "      <th>Astronomical_Twilight</th>\n",
       "    </tr>\n",
       "  </thead>\n",
       "  <tbody>\n",
       "    <tr>\n",
       "      <th>0</th>\n",
       "      <td>A-2283743</td>\n",
       "      <td>2</td>\n",
       "      <td>2019-02-19T08:02:58Z</td>\n",
       "      <td>2019-02-19T08:32:22Z</td>\n",
       "      <td>33.729698</td>\n",
       "      <td>-84.392586</td>\n",
       "      <td>33.729698</td>\n",
       "      <td>-84.392586</td>\n",
       "      <td>0.00</td>\n",
       "      <td>Right hand shoulder blocked due to accident on...</td>\n",
       "      <td>...</td>\n",
       "      <td>False</td>\n",
       "      <td>False</td>\n",
       "      <td>False</td>\n",
       "      <td>False</td>\n",
       "      <td>False</td>\n",
       "      <td>False</td>\n",
       "      <td>Day</td>\n",
       "      <td>Day</td>\n",
       "      <td>Day</td>\n",
       "      <td>Day</td>\n",
       "    </tr>\n",
       "    <tr>\n",
       "      <th>1</th>\n",
       "      <td>A-1567861</td>\n",
       "      <td>2</td>\n",
       "      <td>2017-02-13T20:51:52Z</td>\n",
       "      <td>2017-02-13T21:21:39Z</td>\n",
       "      <td>43.194069</td>\n",
       "      <td>-83.727097</td>\n",
       "      <td>NaN</td>\n",
       "      <td>NaN</td>\n",
       "      <td>0.01</td>\n",
       "      <td>Accident on M-54 Saginaw Rd near Tuscola Rd.</td>\n",
       "      <td>...</td>\n",
       "      <td>False</td>\n",
       "      <td>False</td>\n",
       "      <td>False</td>\n",
       "      <td>False</td>\n",
       "      <td>False</td>\n",
       "      <td>False</td>\n",
       "      <td>Night</td>\n",
       "      <td>Night</td>\n",
       "      <td>Night</td>\n",
       "      <td>Night</td>\n",
       "    </tr>\n",
       "    <tr>\n",
       "      <th>2</th>\n",
       "      <td>A-423709</td>\n",
       "      <td>2</td>\n",
       "      <td>2020-05-22T18:20:00Z</td>\n",
       "      <td>2020-05-22T19:11:35Z</td>\n",
       "      <td>34.000071</td>\n",
       "      <td>-118.409001</td>\n",
       "      <td>34.000071</td>\n",
       "      <td>-118.409001</td>\n",
       "      <td>0.00</td>\n",
       "      <td>At Braddock Dr/Exit 51 - Accident.</td>\n",
       "      <td>...</td>\n",
       "      <td>False</td>\n",
       "      <td>False</td>\n",
       "      <td>False</td>\n",
       "      <td>False</td>\n",
       "      <td>True</td>\n",
       "      <td>False</td>\n",
       "      <td>Day</td>\n",
       "      <td>Day</td>\n",
       "      <td>Day</td>\n",
       "      <td>Day</td>\n",
       "    </tr>\n",
       "    <tr>\n",
       "      <th>3</th>\n",
       "      <td>A-864136</td>\n",
       "      <td>2</td>\n",
       "      <td>2020-03-03T07:47:18Z</td>\n",
       "      <td>2020-03-03T09:17:12Z</td>\n",
       "      <td>32.675549</td>\n",
       "      <td>-96.757278</td>\n",
       "      <td>32.675549</td>\n",
       "      <td>-96.757278</td>\n",
       "      <td>0.00</td>\n",
       "      <td>Accident on Simpson Stuart Rd at Flagstaff Dr.</td>\n",
       "      <td>...</td>\n",
       "      <td>False</td>\n",
       "      <td>False</td>\n",
       "      <td>False</td>\n",
       "      <td>False</td>\n",
       "      <td>False</td>\n",
       "      <td>False</td>\n",
       "      <td>Day</td>\n",
       "      <td>Day</td>\n",
       "      <td>Day</td>\n",
       "      <td>Day</td>\n",
       "    </tr>\n",
       "    <tr>\n",
       "      <th>4</th>\n",
       "      <td>A-2792470</td>\n",
       "      <td>2</td>\n",
       "      <td>2020-01-22T08:05:34Z</td>\n",
       "      <td>2020-01-22T12:05:34Z</td>\n",
       "      <td>42.879050</td>\n",
       "      <td>-121.831060</td>\n",
       "      <td>42.879050</td>\n",
       "      <td>-121.831060</td>\n",
       "      <td>0.00</td>\n",
       "      <td>At Silver Lake Rd/W Boundary Rd - Accident.</td>\n",
       "      <td>...</td>\n",
       "      <td>False</td>\n",
       "      <td>False</td>\n",
       "      <td>False</td>\n",
       "      <td>False</td>\n",
       "      <td>False</td>\n",
       "      <td>False</td>\n",
       "      <td>Day</td>\n",
       "      <td>Day</td>\n",
       "      <td>Day</td>\n",
       "      <td>Day</td>\n",
       "    </tr>\n",
       "  </tbody>\n",
       "</table>\n",
       "<p>5 rows × 47 columns</p>\n",
       "</div>"
      ],
      "text/plain": [
       "          id  Severity            Start_Time              End_Time  Start_Lat  \\\n",
       "0  A-2283743         2  2019-02-19T08:02:58Z  2019-02-19T08:32:22Z  33.729698   \n",
       "1  A-1567861         2  2017-02-13T20:51:52Z  2017-02-13T21:21:39Z  43.194069   \n",
       "2   A-423709         2  2020-05-22T18:20:00Z  2020-05-22T19:11:35Z  34.000071   \n",
       "3   A-864136         2  2020-03-03T07:47:18Z  2020-03-03T09:17:12Z  32.675549   \n",
       "4  A-2792470         2  2020-01-22T08:05:34Z  2020-01-22T12:05:34Z  42.879050   \n",
       "\n",
       "    Start_Lng    End_Lat     End_Lng  Distance(mi)  \\\n",
       "0  -84.392586  33.729698  -84.392586          0.00   \n",
       "1  -83.727097        NaN         NaN          0.01   \n",
       "2 -118.409001  34.000071 -118.409001          0.00   \n",
       "3  -96.757278  32.675549  -96.757278          0.00   \n",
       "4 -121.831060  42.879050 -121.831060          0.00   \n",
       "\n",
       "                                         Description  ...  Roundabout Station  \\\n",
       "0  Right hand shoulder blocked due to accident on...  ...       False   False   \n",
       "1       Accident on M-54 Saginaw Rd near Tuscola Rd.  ...       False   False   \n",
       "2                 At Braddock Dr/Exit 51 - Accident.  ...       False   False   \n",
       "3     Accident on Simpson Stuart Rd at Flagstaff Dr.  ...       False   False   \n",
       "4        At Silver Lake Rd/W Boundary Rd - Accident.  ...       False   False   \n",
       "\n",
       "    Stop Traffic_Calming Traffic_Signal Turning_Loop Sunrise_Sunset  \\\n",
       "0  False           False          False        False            Day   \n",
       "1  False           False          False        False          Night   \n",
       "2  False           False           True        False            Day   \n",
       "3  False           False          False        False            Day   \n",
       "4  False           False          False        False            Day   \n",
       "\n",
       "  Civil_Twilight Nautical_Twilight Astronomical_Twilight  \n",
       "0            Day               Day                   Day  \n",
       "1          Night             Night                 Night  \n",
       "2            Day               Day                   Day  \n",
       "3            Day               Day                   Day  \n",
       "4            Day               Day                   Day  \n",
       "\n",
       "[5 rows x 47 columns]"
      ]
     },
     "execution_count": 3,
     "metadata": {},
     "output_type": "execute_result"
    }
   ],
   "source": [
    "df = pd.read_csv(\"df.csv\")\n",
    "df.head()"
   ]
  },
  {
   "cell_type": "code",
   "execution_count": 4,
   "id": "9999a6f3",
   "metadata": {},
   "outputs": [
    {
     "name": "stdout",
     "output_type": "stream",
     "text": [
      "<class 'pandas.core.frame.DataFrame'>\n",
      "RangeIndex: 5000 entries, 0 to 4999\n",
      "Data columns (total 47 columns):\n",
      " #   Column                 Non-Null Count  Dtype  \n",
      "---  ------                 --------------  -----  \n",
      " 0   id                     5000 non-null   object \n",
      " 1   Severity               5000 non-null   int64  \n",
      " 2   Start_Time             5000 non-null   object \n",
      " 3   End_Time               5000 non-null   object \n",
      " 4   Start_Lat              5000 non-null   float64\n",
      " 5   Start_Lng              5000 non-null   float64\n",
      " 6   End_Lat                4506 non-null   float64\n",
      " 7   End_Lng                4506 non-null   float64\n",
      " 8   Distance(mi)           5000 non-null   float64\n",
      " 9   Description            5000 non-null   object \n",
      " 10  Number                 1697 non-null   float64\n",
      " 11  Street                 5000 non-null   object \n",
      " 12  Side                   5000 non-null   object \n",
      " 13  City                   4999 non-null   object \n",
      " 14  County                 5000 non-null   object \n",
      " 15  State                  5000 non-null   object \n",
      " 16  Zipcode                4999 non-null   object \n",
      " 17  Country                5000 non-null   object \n",
      " 18  Timezone               4997 non-null   object \n",
      " 19  Airport_Code           4990 non-null   object \n",
      " 20  Weather_Timestamp      4919 non-null   object \n",
      " 21  Temperature(F)         4882 non-null   float64\n",
      " 22  Wind_Chill(F)          2947 non-null   float64\n",
      " 23  Humidity(%)            4869 non-null   float64\n",
      " 24  Pressure(in)           4903 non-null   float64\n",
      " 25  Visibility(mi)         4876 non-null   float64\n",
      " 26  Wind_Direction         4888 non-null   object \n",
      " 27  Wind_Speed(mph)        4455 non-null   float64\n",
      " 28  Precipitation(in)      2757 non-null   float64\n",
      " 29  Weather_Condition      4871 non-null   object \n",
      " 30  Amenity                5000 non-null   bool   \n",
      " 31  Bump                   5000 non-null   bool   \n",
      " 32  Crossing               5000 non-null   bool   \n",
      " 33  Give_Way               5000 non-null   bool   \n",
      " 34  Junction               5000 non-null   bool   \n",
      " 35  No_Exit                5000 non-null   bool   \n",
      " 36  Railway                5000 non-null   bool   \n",
      " 37  Roundabout             5000 non-null   bool   \n",
      " 38  Station                5000 non-null   bool   \n",
      " 39  Stop                   5000 non-null   bool   \n",
      " 40  Traffic_Calming        5000 non-null   bool   \n",
      " 41  Traffic_Signal         5000 non-null   bool   \n",
      " 42  Turning_Loop           5000 non-null   bool   \n",
      " 43  Sunrise_Sunset         4999 non-null   object \n",
      " 44  Civil_Twilight         4999 non-null   object \n",
      " 45  Nautical_Twilight      4999 non-null   object \n",
      " 46  Astronomical_Twilight  4999 non-null   object \n",
      "dtypes: bool(13), float64(13), int64(1), object(20)\n",
      "memory usage: 1.4+ MB\n"
     ]
    }
   ],
   "source": [
    "df.info()"
   ]
  },
  {
   "cell_type": "code",
   "execution_count": 5,
   "id": "e7a476ae",
   "metadata": {},
   "outputs": [
    {
     "data": {
      "text/plain": [
       "(5000, 47)"
      ]
     },
     "execution_count": 5,
     "metadata": {},
     "output_type": "execute_result"
    }
   ],
   "source": [
    "df.shape"
   ]
  },
  {
   "cell_type": "code",
   "execution_count": 6,
   "id": "9e626036",
   "metadata": {},
   "outputs": [
    {
     "data": {
      "text/html": [
       "<div>\n",
       "<style scoped>\n",
       "    .dataframe tbody tr th:only-of-type {\n",
       "        vertical-align: middle;\n",
       "    }\n",
       "\n",
       "    .dataframe tbody tr th {\n",
       "        vertical-align: top;\n",
       "    }\n",
       "\n",
       "    .dataframe thead th {\n",
       "        text-align: right;\n",
       "    }\n",
       "</style>\n",
       "<table border=\"1\" class=\"dataframe\">\n",
       "  <thead>\n",
       "    <tr style=\"text-align: right;\">\n",
       "      <th></th>\n",
       "      <th>Severity</th>\n",
       "      <th>Start_Lat</th>\n",
       "      <th>Start_Lng</th>\n",
       "      <th>End_Lat</th>\n",
       "      <th>End_Lng</th>\n",
       "      <th>Distance(mi)</th>\n",
       "      <th>Number</th>\n",
       "      <th>Temperature(F)</th>\n",
       "      <th>Wind_Chill(F)</th>\n",
       "      <th>Humidity(%)</th>\n",
       "      <th>Pressure(in)</th>\n",
       "      <th>Visibility(mi)</th>\n",
       "      <th>Wind_Speed(mph)</th>\n",
       "      <th>Precipitation(in)</th>\n",
       "    </tr>\n",
       "  </thead>\n",
       "  <tbody>\n",
       "    <tr>\n",
       "      <th>count</th>\n",
       "      <td>5000.000000</td>\n",
       "      <td>5000.000000</td>\n",
       "      <td>5000.000000</td>\n",
       "      <td>4506.000000</td>\n",
       "      <td>4506.000000</td>\n",
       "      <td>5000.000000</td>\n",
       "      <td>1697.000000</td>\n",
       "      <td>4882.000000</td>\n",
       "      <td>2947.000000</td>\n",
       "      <td>4869.000000</td>\n",
       "      <td>4903.000000</td>\n",
       "      <td>4876.000000</td>\n",
       "      <td>4455.000000</td>\n",
       "      <td>2757.000000</td>\n",
       "    </tr>\n",
       "    <tr>\n",
       "      <th>mean</th>\n",
       "      <td>2.295400</td>\n",
       "      <td>36.584912</td>\n",
       "      <td>-96.674821</td>\n",
       "      <td>36.613229</td>\n",
       "      <td>-96.475027</td>\n",
       "      <td>0.401162</td>\n",
       "      <td>6929.484973</td>\n",
       "      <td>60.708296</td>\n",
       "      <td>54.610757</td>\n",
       "      <td>65.131033</td>\n",
       "      <td>29.659818</td>\n",
       "      <td>9.067262</td>\n",
       "      <td>7.791538</td>\n",
       "      <td>0.011542</td>\n",
       "    </tr>\n",
       "    <tr>\n",
       "      <th>std</th>\n",
       "      <td>0.559465</td>\n",
       "      <td>4.980849</td>\n",
       "      <td>17.828479</td>\n",
       "      <td>4.977836</td>\n",
       "      <td>17.757131</td>\n",
       "      <td>1.497795</td>\n",
       "      <td>13305.616733</td>\n",
       "      <td>18.480454</td>\n",
       "      <td>22.202718</td>\n",
       "      <td>22.988629</td>\n",
       "      <td>0.880240</td>\n",
       "      <td>2.810491</td>\n",
       "      <td>5.087746</td>\n",
       "      <td>0.067421</td>\n",
       "    </tr>\n",
       "    <tr>\n",
       "      <th>min</th>\n",
       "      <td>1.000000</td>\n",
       "      <td>24.662330</td>\n",
       "      <td>-124.390688</td>\n",
       "      <td>24.661070</td>\n",
       "      <td>-124.390688</td>\n",
       "      <td>0.000000</td>\n",
       "      <td>1.000000</td>\n",
       "      <td>-13.000000</td>\n",
       "      <td>-25.200000</td>\n",
       "      <td>3.000000</td>\n",
       "      <td>22.680000</td>\n",
       "      <td>0.000000</td>\n",
       "      <td>0.000000</td>\n",
       "      <td>0.000000</td>\n",
       "    </tr>\n",
       "    <tr>\n",
       "      <th>25%</th>\n",
       "      <td>2.000000</td>\n",
       "      <td>33.671869</td>\n",
       "      <td>-117.875084</td>\n",
       "      <td>33.674678</td>\n",
       "      <td>-117.813443</td>\n",
       "      <td>0.000000</td>\n",
       "      <td>996.000000</td>\n",
       "      <td>48.200000</td>\n",
       "      <td>39.000000</td>\n",
       "      <td>49.000000</td>\n",
       "      <td>29.600000</td>\n",
       "      <td>10.000000</td>\n",
       "      <td>4.600000</td>\n",
       "      <td>0.000000</td>\n",
       "    </tr>\n",
       "    <tr>\n",
       "      <th>50%</th>\n",
       "      <td>2.000000</td>\n",
       "      <td>36.122765</td>\n",
       "      <td>-92.959225</td>\n",
       "      <td>36.119829</td>\n",
       "      <td>-91.163384</td>\n",
       "      <td>0.000000</td>\n",
       "      <td>3155.000000</td>\n",
       "      <td>62.600000</td>\n",
       "      <td>57.000000</td>\n",
       "      <td>68.000000</td>\n",
       "      <td>29.920000</td>\n",
       "      <td>10.000000</td>\n",
       "      <td>7.000000</td>\n",
       "      <td>0.000000</td>\n",
       "    </tr>\n",
       "    <tr>\n",
       "      <th>75%</th>\n",
       "      <td>3.000000</td>\n",
       "      <td>40.474244</td>\n",
       "      <td>-80.918999</td>\n",
       "      <td>40.484366</td>\n",
       "      <td>-80.897376</td>\n",
       "      <td>0.289000</td>\n",
       "      <td>7998.000000</td>\n",
       "      <td>74.950000</td>\n",
       "      <td>72.000000</td>\n",
       "      <td>84.000000</td>\n",
       "      <td>30.060000</td>\n",
       "      <td>10.000000</td>\n",
       "      <td>10.400000</td>\n",
       "      <td>0.000000</td>\n",
       "    </tr>\n",
       "    <tr>\n",
       "      <th>max</th>\n",
       "      <td>4.000000</td>\n",
       "      <td>48.891125</td>\n",
       "      <td>-68.456524</td>\n",
       "      <td>48.891125</td>\n",
       "      <td>-68.454573</td>\n",
       "      <td>40.209999</td>\n",
       "      <td>282417.000000</td>\n",
       "      <td>109.000000</td>\n",
       "      <td>109.000000</td>\n",
       "      <td>100.000000</td>\n",
       "      <td>30.920000</td>\n",
       "      <td>50.000000</td>\n",
       "      <td>29.900000</td>\n",
       "      <td>1.370000</td>\n",
       "    </tr>\n",
       "  </tbody>\n",
       "</table>\n",
       "</div>"
      ],
      "text/plain": [
       "          Severity    Start_Lat    Start_Lng      End_Lat      End_Lng  \\\n",
       "count  5000.000000  5000.000000  5000.000000  4506.000000  4506.000000   \n",
       "mean      2.295400    36.584912   -96.674821    36.613229   -96.475027   \n",
       "std       0.559465     4.980849    17.828479     4.977836    17.757131   \n",
       "min       1.000000    24.662330  -124.390688    24.661070  -124.390688   \n",
       "25%       2.000000    33.671869  -117.875084    33.674678  -117.813443   \n",
       "50%       2.000000    36.122765   -92.959225    36.119829   -91.163384   \n",
       "75%       3.000000    40.474244   -80.918999    40.484366   -80.897376   \n",
       "max       4.000000    48.891125   -68.456524    48.891125   -68.454573   \n",
       "\n",
       "       Distance(mi)         Number  Temperature(F)  Wind_Chill(F)  \\\n",
       "count   5000.000000    1697.000000     4882.000000    2947.000000   \n",
       "mean       0.401162    6929.484973       60.708296      54.610757   \n",
       "std        1.497795   13305.616733       18.480454      22.202718   \n",
       "min        0.000000       1.000000      -13.000000     -25.200000   \n",
       "25%        0.000000     996.000000       48.200000      39.000000   \n",
       "50%        0.000000    3155.000000       62.600000      57.000000   \n",
       "75%        0.289000    7998.000000       74.950000      72.000000   \n",
       "max       40.209999  282417.000000      109.000000     109.000000   \n",
       "\n",
       "       Humidity(%)  Pressure(in)  Visibility(mi)  Wind_Speed(mph)  \\\n",
       "count  4869.000000   4903.000000     4876.000000      4455.000000   \n",
       "mean     65.131033     29.659818        9.067262         7.791538   \n",
       "std      22.988629      0.880240        2.810491         5.087746   \n",
       "min       3.000000     22.680000        0.000000         0.000000   \n",
       "25%      49.000000     29.600000       10.000000         4.600000   \n",
       "50%      68.000000     29.920000       10.000000         7.000000   \n",
       "75%      84.000000     30.060000       10.000000        10.400000   \n",
       "max     100.000000     30.920000       50.000000        29.900000   \n",
       "\n",
       "       Precipitation(in)  \n",
       "count        2757.000000  \n",
       "mean            0.011542  \n",
       "std             0.067421  \n",
       "min             0.000000  \n",
       "25%             0.000000  \n",
       "50%             0.000000  \n",
       "75%             0.000000  \n",
       "max             1.370000  "
      ]
     },
     "execution_count": 6,
     "metadata": {},
     "output_type": "execute_result"
    }
   ],
   "source": [
    "df.describe()"
   ]
  },
  {
   "cell_type": "code",
   "execution_count": 7,
   "id": "bb890df0",
   "metadata": {},
   "outputs": [
    {
     "data": {
      "text/plain": [
       "id                          0\n",
       "Severity                    0\n",
       "Start_Time                  0\n",
       "End_Time                    0\n",
       "Start_Lat                   0\n",
       "Start_Lng                   0\n",
       "End_Lat                   494\n",
       "End_Lng                   494\n",
       "Distance(mi)                0\n",
       "Description                 0\n",
       "Number                   3303\n",
       "Street                      0\n",
       "Side                        0\n",
       "City                        1\n",
       "County                      0\n",
       "State                       0\n",
       "Zipcode                     1\n",
       "Country                     0\n",
       "Timezone                    3\n",
       "Airport_Code               10\n",
       "Weather_Timestamp          81\n",
       "Temperature(F)            118\n",
       "Wind_Chill(F)            2053\n",
       "Humidity(%)               131\n",
       "Pressure(in)               97\n",
       "Visibility(mi)            124\n",
       "Wind_Direction            112\n",
       "Wind_Speed(mph)           545\n",
       "Precipitation(in)        2243\n",
       "Weather_Condition         129\n",
       "Amenity                     0\n",
       "Bump                        0\n",
       "Crossing                    0\n",
       "Give_Way                    0\n",
       "Junction                    0\n",
       "No_Exit                     0\n",
       "Railway                     0\n",
       "Roundabout                  0\n",
       "Station                     0\n",
       "Stop                        0\n",
       "Traffic_Calming             0\n",
       "Traffic_Signal              0\n",
       "Turning_Loop                0\n",
       "Sunrise_Sunset              1\n",
       "Civil_Twilight              1\n",
       "Nautical_Twilight           1\n",
       "Astronomical_Twilight       1\n",
       "dtype: int64"
      ]
     },
     "execution_count": 7,
     "metadata": {},
     "output_type": "execute_result"
    }
   ],
   "source": [
    "df.isnull().sum()"
   ]
  },
  {
   "cell_type": "code",
   "execution_count": 8,
   "id": "283263c4",
   "metadata": {},
   "outputs": [],
   "source": [
    "df.drop(['Number','Precipitation(in)','Wind_Chill(F)'],axis = 1 , inplace = True)\n"
   ]
  },
  {
   "cell_type": "code",
   "execution_count": 9,
   "id": "299b289a",
   "metadata": {},
   "outputs": [
    {
     "data": {
      "text/plain": [
       "id                         0\n",
       "Severity                   0\n",
       "Start_Time                 0\n",
       "End_Time                   0\n",
       "Start_Lat                  0\n",
       "Start_Lng                  0\n",
       "End_Lat                  494\n",
       "End_Lng                  494\n",
       "Distance(mi)               0\n",
       "Description                0\n",
       "Street                     0\n",
       "Side                       0\n",
       "City                       1\n",
       "County                     0\n",
       "State                      0\n",
       "Zipcode                    1\n",
       "Country                    0\n",
       "Timezone                   3\n",
       "Airport_Code              10\n",
       "Weather_Timestamp         81\n",
       "Temperature(F)           118\n",
       "Humidity(%)              131\n",
       "Pressure(in)              97\n",
       "Visibility(mi)           124\n",
       "Wind_Direction           112\n",
       "Wind_Speed(mph)          545\n",
       "Weather_Condition        129\n",
       "Amenity                    0\n",
       "Bump                       0\n",
       "Crossing                   0\n",
       "Give_Way                   0\n",
       "Junction                   0\n",
       "No_Exit                    0\n",
       "Railway                    0\n",
       "Roundabout                 0\n",
       "Station                    0\n",
       "Stop                       0\n",
       "Traffic_Calming            0\n",
       "Traffic_Signal             0\n",
       "Turning_Loop               0\n",
       "Sunrise_Sunset             1\n",
       "Civil_Twilight             1\n",
       "Nautical_Twilight          1\n",
       "Astronomical_Twilight      1\n",
       "dtype: int64"
      ]
     },
     "execution_count": 9,
     "metadata": {},
     "output_type": "execute_result"
    }
   ],
   "source": [
    "df.isnull().sum()"
   ]
  },
  {
   "cell_type": "code",
   "execution_count": 10,
   "id": "8d7f41f1",
   "metadata": {},
   "outputs": [
    {
     "data": {
      "text/plain": [
       "0"
      ]
     },
     "execution_count": 10,
     "metadata": {},
     "output_type": "execute_result"
    }
   ],
   "source": [
    "df.duplicated(keep=False).sum()"
   ]
  },
  {
   "cell_type": "code",
   "execution_count": 19,
   "id": "d1187589",
   "metadata": {
    "scrolled": true
   },
   "outputs": [
    {
     "data": {
      "image/png": "[encoded data removed]",
      "text/plain": [
       "<Figure size 1440x1080 with 12 Axes>"
      ]
     },
     "metadata": {
      "needs_background": "light"
     },
     "output_type": "display_data"
    }
   ],
   "source": [
    "# understanding distribution of each variable in data \n",
    "df.hist(bins=50, figsize=(20,15))\n",
    "plt.show()"
   ]
  },
  {
   "cell_type": "code",
   "execution_count": 20,
   "id": "78fe88d5",
   "metadata": {},
   "outputs": [
    {
     "data": {
      "text/plain": [
       "array(['R', 'L'], dtype=object)"
      ]
     },
     "execution_count": 20,
     "metadata": {},
     "output_type": "execute_result"
    }
   ],
   "source": [
    "df.Side.unique()"
   ]
  },
  {
   "cell_type": "code",
   "execution_count": 21,
   "id": "13e1ba52",
   "metadata": {},
   "outputs": [
    {
     "name": "stderr",
     "output_type": "stream",
     "text": [
      "/home/reem/anaconda3/lib/python3.7/site-packages/ipykernel_launcher.py:7: UserWarning: Boolean Series key will be reindexed to match DataFrame index.\n",
      "  import sys\n",
      "/home/reem/anaconda3/lib/python3.7/site-packages/ipykernel_launcher.py:7: UserWarning: Boolean Series key will be reindexed to match DataFrame index.\n",
      "  import sys\n",
      "/home/reem/anaconda3/lib/python3.7/site-packages/ipykernel_launcher.py:7: UserWarning: Boolean Series key will be reindexed to match DataFrame index.\n",
      "  import sys\n",
      "/home/reem/anaconda3/lib/python3.7/site-packages/ipykernel_launcher.py:7: UserWarning: Boolean Series key will be reindexed to match DataFrame index.\n",
      "  import sys\n"
     ]
    },
    {
     "data": {
      "image/png": "[encoded data removed]",
      "text/plain": [
       "<Figure size 432x288 with 1 Axes>"
      ]
     },
     "metadata": {
      "needs_background": "light"
     },
     "output_type": "display_data"
    },
    {
     "name": "stderr",
     "output_type": "stream",
     "text": [
      "/home/reem/anaconda3/lib/python3.7/site-packages/ipykernel_launcher.py:7: UserWarning: Boolean Series key will be reindexed to match DataFrame index.\n",
      "  import sys\n",
      "/home/reem/anaconda3/lib/python3.7/site-packages/ipykernel_launcher.py:7: UserWarning: Boolean Series key will be reindexed to match DataFrame index.\n",
      "  import sys\n",
      "/home/reem/anaconda3/lib/python3.7/site-packages/ipykernel_launcher.py:7: UserWarning: Boolean Series key will be reindexed to match DataFrame index.\n",
      "  import sys\n",
      "/home/reem/anaconda3/lib/python3.7/site-packages/ipykernel_launcher.py:7: UserWarning: Boolean Series key will be reindexed to match DataFrame index.\n",
      "  import sys\n"
     ]
    },
    {
     "data": {
      "image/png": "[encoded data removed]",
      "text/plain": [
       "<Figure size 432x288 with 1 Axes>"
      ]
     },
     "metadata": {
      "needs_background": "light"
     },
     "output_type": "display_data"
    },
    {
     "name": "stderr",
     "output_type": "stream",
     "text": [
      "/home/reem/anaconda3/lib/python3.7/site-packages/ipykernel_launcher.py:7: UserWarning: Boolean Series key will be reindexed to match DataFrame index.\n",
      "  import sys\n",
      "/home/reem/anaconda3/lib/python3.7/site-packages/ipykernel_launcher.py:7: UserWarning: Boolean Series key will be reindexed to match DataFrame index.\n",
      "  import sys\n",
      "/home/reem/anaconda3/lib/python3.7/site-packages/ipykernel_launcher.py:7: UserWarning: Boolean Series key will be reindexed to match DataFrame index.\n",
      "  import sys\n",
      "/home/reem/anaconda3/lib/python3.7/site-packages/ipykernel_launcher.py:7: UserWarning: Boolean Series key will be reindexed to match DataFrame index.\n",
      "  import sys\n"
     ]
    },
    {
     "data": {
      "image/png": "[encoded data removed]",
      "text/plain": [
       "<Figure size 432x288 with 1 Axes>"
      ]
     },
     "metadata": {
      "needs_background": "light"
     },
     "output_type": "display_data"
    },
    {
     "name": "stderr",
     "output_type": "stream",
     "text": [
      "/home/reem/anaconda3/lib/python3.7/site-packages/ipykernel_launcher.py:7: UserWarning: Boolean Series key will be reindexed to match DataFrame index.\n",
      "  import sys\n",
      "/home/reem/anaconda3/lib/python3.7/site-packages/ipykernel_launcher.py:7: UserWarning: Boolean Series key will be reindexed to match DataFrame index.\n",
      "  import sys\n",
      "/home/reem/anaconda3/lib/python3.7/site-packages/ipykernel_launcher.py:7: UserWarning: Boolean Series key will be reindexed to match DataFrame index.\n",
      "  import sys\n",
      "/home/reem/anaconda3/lib/python3.7/site-packages/ipykernel_launcher.py:7: UserWarning: Boolean Series key will be reindexed to match DataFrame index.\n",
      "  import sys\n"
     ]
    },
    {
     "data": {
      "image/png": "[encoded data removed]",
      "text/plain": [
       "<Figure size 432x288 with 1 Axes>"
      ]
     },
     "metadata": {
      "needs_background": "light"
     },
     "output_type": "display_data"
    },
    {
     "name": "stderr",
     "output_type": "stream",
     "text": [
      "/home/reem/anaconda3/lib/python3.7/site-packages/ipykernel_launcher.py:7: UserWarning: Boolean Series key will be reindexed to match DataFrame index.\n",
      "  import sys\n",
      "/home/reem/anaconda3/lib/python3.7/site-packages/ipykernel_launcher.py:7: UserWarning: Boolean Series key will be reindexed to match DataFrame index.\n",
      "  import sys\n",
      "/home/reem/anaconda3/lib/python3.7/site-packages/ipykernel_launcher.py:7: UserWarning: Boolean Series key will be reindexed to match DataFrame index.\n",
      "  import sys\n",
      "/home/reem/anaconda3/lib/python3.7/site-packages/ipykernel_launcher.py:7: UserWarning: Boolean Series key will be reindexed to match DataFrame index.\n",
      "  import sys\n"
     ]
    },
    {
     "data": {
      "image/png": "[encoded data removed]",
      "text/plain": [
       "<Figure size 432x288 with 1 Axes>"
      ]
     },
     "metadata": {
      "needs_background": "light"
     },
     "output_type": "display_data"
    },
    {
     "name": "stderr",
     "output_type": "stream",
     "text": [
      "/home/reem/anaconda3/lib/python3.7/site-packages/ipykernel_launcher.py:7: UserWarning: Boolean Series key will be reindexed to match DataFrame index.\n",
      "  import sys\n",
      "/home/reem/anaconda3/lib/python3.7/site-packages/ipykernel_launcher.py:7: UserWarning: Boolean Series key will be reindexed to match DataFrame index.\n",
      "  import sys\n",
      "/home/reem/anaconda3/lib/python3.7/site-packages/ipykernel_launcher.py:7: UserWarning: Boolean Series key will be reindexed to match DataFrame index.\n",
      "  import sys\n",
      "/home/reem/anaconda3/lib/python3.7/site-packages/ipykernel_launcher.py:7: UserWarning: Boolean Series key will be reindexed to match DataFrame index.\n",
      "  import sys\n"
     ]
    },
    {
     "data": {
      "image/png": "[encoded data removed]",
      "text/plain": [
       "<Figure size 432x288 with 1 Axes>"
      ]
     },
     "metadata": {
      "needs_background": "light"
     },
     "output_type": "display_data"
    },
    {
     "name": "stderr",
     "output_type": "stream",
     "text": [
      "/home/reem/anaconda3/lib/python3.7/site-packages/ipykernel_launcher.py:7: UserWarning: Boolean Series key will be reindexed to match DataFrame index.\n",
      "  import sys\n",
      "/home/reem/anaconda3/lib/python3.7/site-packages/ipykernel_launcher.py:7: UserWarning: Boolean Series key will be reindexed to match DataFrame index.\n",
      "  import sys\n",
      "/home/reem/anaconda3/lib/python3.7/site-packages/ipykernel_launcher.py:7: UserWarning: Boolean Series key will be reindexed to match DataFrame index.\n",
      "  import sys\n",
      "/home/reem/anaconda3/lib/python3.7/site-packages/ipykernel_launcher.py:7: UserWarning: Boolean Series key will be reindexed to match DataFrame index.\n",
      "  import sys\n"
     ]
    },
    {
     "data": {
      "image/png": "[encoded data removed]",
      "text/plain": [
       "<Figure size 432x288 with 1 Axes>"
      ]
     },
     "metadata": {
      "needs_background": "light"
     },
     "output_type": "display_data"
    },
    {
     "name": "stderr",
     "output_type": "stream",
     "text": [
      "/home/reem/anaconda3/lib/python3.7/site-packages/ipykernel_launcher.py:7: UserWarning: Boolean Series key will be reindexed to match DataFrame index.\n",
      "  import sys\n",
      "/home/reem/anaconda3/lib/python3.7/site-packages/ipykernel_launcher.py:7: UserWarning: Boolean Series key will be reindexed to match DataFrame index.\n",
      "  import sys\n",
      "/home/reem/anaconda3/lib/python3.7/site-packages/ipykernel_launcher.py:7: UserWarning: Boolean Series key will be reindexed to match DataFrame index.\n",
      "  import sys\n",
      "/home/reem/anaconda3/lib/python3.7/site-packages/ipykernel_launcher.py:7: UserWarning: Boolean Series key will be reindexed to match DataFrame index.\n",
      "  import sys\n"
     ]
    },
    {
     "data": {
      "image/png": "[encoded data removed]",
      "text/plain": [
       "<Figure size 432x288 with 1 Axes>"
      ]
     },
     "metadata": {
      "needs_background": "light"
     },
     "output_type": "display_data"
    },
    {
     "name": "stderr",
     "output_type": "stream",
     "text": [
      "/home/reem/anaconda3/lib/python3.7/site-packages/ipykernel_launcher.py:7: UserWarning: Boolean Series key will be reindexed to match DataFrame index.\n",
      "  import sys\n",
      "/home/reem/anaconda3/lib/python3.7/site-packages/ipykernel_launcher.py:7: UserWarning: Boolean Series key will be reindexed to match DataFrame index.\n",
      "  import sys\n",
      "/home/reem/anaconda3/lib/python3.7/site-packages/ipykernel_launcher.py:7: UserWarning: Boolean Series key will be reindexed to match DataFrame index.\n",
      "  import sys\n",
      "/home/reem/anaconda3/lib/python3.7/site-packages/ipykernel_launcher.py:7: UserWarning: Boolean Series key will be reindexed to match DataFrame index.\n",
      "  import sys\n"
     ]
    },
    {
     "data": {
      "image/png": "[encoded data removed]",
      "text/plain": [
       "<Figure size 432x288 with 1 Axes>"
      ]
     },
     "metadata": {
      "needs_background": "light"
     },
     "output_type": "display_data"
    },
    {
     "name": "stderr",
     "output_type": "stream",
     "text": [
      "/home/reem/anaconda3/lib/python3.7/site-packages/ipykernel_launcher.py:7: UserWarning: Boolean Series key will be reindexed to match DataFrame index.\n",
      "  import sys\n",
      "/home/reem/anaconda3/lib/python3.7/site-packages/ipykernel_launcher.py:7: UserWarning: Boolean Series key will be reindexed to match DataFrame index.\n",
      "  import sys\n",
      "/home/reem/anaconda3/lib/python3.7/site-packages/ipykernel_launcher.py:7: UserWarning: Boolean Series key will be reindexed to match DataFrame index.\n",
      "  import sys\n",
      "/home/reem/anaconda3/lib/python3.7/site-packages/ipykernel_launcher.py:7: UserWarning: Boolean Series key will be reindexed to match DataFrame index.\n",
      "  import sys\n"
     ]
    },
    {
     "data": {
      "image/png": "[encoded data removed]",
      "text/plain": [
       "<Figure size 432x288 with 1 Axes>"
      ]
     },
     "metadata": {
      "needs_background": "light"
     },
     "output_type": "display_data"
    }
   ],
   "source": [
    "def BooleanAttributeVisualisation(attributeName,false = False):\n",
    "    x = np.array([\"1\", \"2\", \"3\", \"4\"])\n",
    "    \n",
    "    y = np.array([len(df[df[\"Severity\"]==i]) for i in range(1,5)])\n",
    "    plt.bar(x,y)\n",
    "    \n",
    "    y = np.array([len(df[df[\"Severity\"]==i][df[attributeName]==false]) for i in range(1,5)])\n",
    "    plt.bar(x,y)\n",
    "    \n",
    "    plt.title('{}. Lower part=FALSE part'.format(attributeName))\n",
    "    plt.xlabel(\"Severity\")\n",
    "    plt.ylabel(attributeName)\n",
    "    plt.show()\n",
    "    \n",
    "BooleanAttributeVisualisation(\"Bump\")    \n",
    "BooleanAttributeVisualisation(\"Railway\")\n",
    "BooleanAttributeVisualisation(\"Junction\")\n",
    "BooleanAttributeVisualisation(\"Crossing\")\n",
    "BooleanAttributeVisualisation(\"Railway\")\n",
    "BooleanAttributeVisualisation(\"Stop\")\n",
    "BooleanAttributeVisualisation(\"Amenity\")\n",
    "BooleanAttributeVisualisation(\"Roundabout\")\n",
    "BooleanAttributeVisualisation(\"Traffic_Signal\")\n",
    "BooleanAttributeVisualisation(\"Side\",false= 'R')"
   ]
  },
  {
   "cell_type": "code",
   "execution_count": 27,
   "id": "8efbd640",
   "metadata": {},
   "outputs": [
    {
     "data": {
      "image/png": "[encoded data removed]",
      "text/plain": [
       "<Figure size 432x288 with 1 Axes>"
      ]
     },
     "metadata": {
      "needs_background": "light"
     },
     "output_type": "display_data"
    }
   ],
   "source": [
    "sb.boxplot(x=\"Severity\", y=\"Temperature(F)\", data=df) #,ax=ax[i])\n",
    "plt.xticks(rotation=45)\n",
    "plt.show()"
   ]
  },
  {
   "cell_type": "code",
   "execution_count": null,
   "id": "266b4835",
   "metadata": {},
   "outputs": [],
   "source": [
    "# what is the relation between severity and Weather_Conditions"
   ]
  },
  {
   "cell_type": "code",
   "execution_count": 51,
   "id": "16a5eb4d",
   "metadata": {},
   "outputs": [],
   "source": [
    "df.Weather_Condition.unique()\n",
    "df = df[df['Weather_Condition'].notna()]"
   ]
  },
  {
   "cell_type": "code",
   "execution_count": 52,
   "id": "32441c0c",
   "metadata": {},
   "outputs": [
    {
     "data": {
      "image/png": "[encoded data removed]",
      "text/plain": [
       "<Figure size 432x288 with 1 Axes>"
      ]
     },
     "metadata": {
      "needs_background": "light"
     },
     "output_type": "display_data"
    }
   ],
   "source": [
    "sb.boxplot(x=\"Severity\", y='Humidity(%)', data=df)\n",
    "plt.xticks(rotation=90)\n",
    "plt.show()"
   ]
  },
  {
   "cell_type": "code",
   "execution_count": 58,
   "id": "65717cfb",
   "metadata": {},
   "outputs": [
    {
     "data": {
      "image/png": "[encoded data removed]",
      "text/plain": [
       "<Figure size 432x288 with 1 Axes>"
      ]
     },
     "metadata": {
      "needs_background": "light"
     },
     "output_type": "display_data"
    }
   ],
   "source": [
    "\n",
    "weatherDF = df.groupby('Weather_Condition').id.count()\n",
    "\n",
    "weatherDF = weatherDF.reset_index()\n",
    "weatherDF=weatherDF.drop( 0)\n",
    "weatherDF = weatherDF.sort_values(ascending = False ,by ='id')\n",
    "weatherDF = weatherDF.iloc[0:10]\n",
    "sb.barplot(data=weatherDF, x='Weather_Condition', y='id')\n",
    "\n",
    "plt.title('Top 10 Weather Conditions that Accidents happned');\n",
    "plt.ylabel('Count of Accidents ')\n",
    "plt.xticks(rotation=90)\n",
    "plt.xlabel('Weather Condition')\n",
    "plt.show()"
   ]
  },
  {
   "cell_type": "code",
   "execution_count": null,
   "id": "e77cc71f",
   "metadata": {},
   "outputs": [],
   "source": []
  },
  {
   "cell_type": "code",
   "execution_count": 63,
   "id": "374f9073",
   "metadata": {},
   "outputs": [
    {
     "name": "stderr",
     "output_type": "stream",
     "text": [
      "/home/reem/anaconda3/lib/python3.7/site-packages/ipykernel_launcher.py:1: SettingWithCopyWarning: \n",
      "A value is trying to be set on a copy of a slice from a DataFrame.\n",
      "Try using .loc[row_indexer,col_indexer] = value instead\n",
      "\n",
      "See the caveats in the documentation: https://pandas.pydata.org/pandas-docs/stable/user_guide/indexing.html#returning-a-view-versus-a-copy\n",
      "  \"\"\"Entry point for launching an IPython kernel.\n"
     ]
    }
   ],
   "source": [
    " df['Weather_Timestamp']= pd.to_datetime(df['Weather_Timestamp'])"
   ]
  },
  {
   "cell_type": "code",
   "execution_count": 66,
   "id": "4603d79f",
   "metadata": {},
   "outputs": [
    {
     "name": "stderr",
     "output_type": "stream",
     "text": [
      "/home/reem/anaconda3/lib/python3.7/site-packages/ipykernel_launcher.py:1: SettingWithCopyWarning: \n",
      "A value is trying to be set on a copy of a slice from a DataFrame.\n",
      "Try using .loc[row_indexer,col_indexer] = value instead\n",
      "\n",
      "See the caveats in the documentation: https://pandas.pydata.org/pandas-docs/stable/user_guide/indexing.html#returning-a-view-versus-a-copy\n",
      "  \"\"\"Entry point for launching an IPython kernel.\n"
     ]
    }
   ],
   "source": [
    "df['hour'] = df['Weather_Timestamp'].dt.hour"
   ]
  },
  {
   "cell_type": "code",
   "execution_count": 70,
   "id": "fab26ac0",
   "metadata": {},
   "outputs": [
    {
     "data": {
      "image/png": "[encoded data removed]",
      "text/plain": [
       "<Figure size 432x288 with 1 Axes>"
      ]
     },
     "metadata": {
      "needs_background": "light"
     },
     "output_type": "display_data"
    }
   ],
   "source": [
    "sb.countplot(data = df, x='hour')\n",
    "plt.xlabel('Hour of day')\n",
    "plt.ylabel('Number of Acciendents')\n",
    "plt.xticks(rotation=45)\n",
    "plt.title('Number of Acciendents per hour')\n",
    "plt.show()"
   ]
  },
  {
   "cell_type": "code",
   "execution_count": null,
   "id": "87495702",
   "metadata": {},
   "outputs": [],
   "source": []
  }
 ],
 "metadata": {
  "kernelspec": {
   "display_name": "Python 3",
   "language": "python",
   "name": "python3"
  },
  "language_info": {
   "codemirror_mode": {
    "name": "ipython",
    "version": 3
   },
   "file_extension": ".py",
   "mimetype": "text/x-python",
   "name": "python",
   "nbconvert_exporter": "python",
   "pygments_lexer": "ipython3",
   "version": "3.7.7"
  }
 },
 "nbformat": 4,
 "nbformat_minor": 5
}
